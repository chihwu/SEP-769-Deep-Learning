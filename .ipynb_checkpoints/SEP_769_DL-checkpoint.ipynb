{
 "cells": [
  {
   "cell_type": "markdown",
   "metadata": {
    "colab_type": "text",
    "id": "view-in-github"
   },
   "source": [
    "<a href=\"https://colab.research.google.com/github/chihwu/SEP-769-Deep-Learning/blob/master/SEP_769_DL.ipynb\" target=\"_parent\"><img src=\"https://colab.research.google.com/assets/colab-badge.svg\" alt=\"Open In Colab\"/></a>"
   ]
  },
  {
   "cell_type": "code",
   "execution_count": 1,
   "metadata": {
    "id": "Js7b1QAXmGAb"
   },
   "outputs": [],
   "source": [
    "import pandas as pd\n",
    "import os\n",
    "import cv2\n",
    "import random"
   ]
  },
  {
   "cell_type": "markdown",
   "metadata": {
    "id": "X0OIOjdRIWPw"
   },
   "source": [
    "# Load Data, Format Labels, Split Train/Validation"
   ]
  },
  {
   "cell_type": "code",
   "execution_count": 4,
   "metadata": {
    "colab": {
     "base_uri": "https://localhost:8080/",
     "height": 206
    },
    "id": "0y7yc68uQbJN",
    "outputId": "28c109e7-bed9-43fc-bc31-21677e01ad38"
   },
   "outputs": [
    {
     "data": {
      "text/html": [
       "<div>\n",
       "<style scoped>\n",
       "    .dataframe tbody tr th:only-of-type {\n",
       "        vertical-align: middle;\n",
       "    }\n",
       "\n",
       "    .dataframe tbody tr th {\n",
       "        vertical-align: top;\n",
       "    }\n",
       "\n",
       "    .dataframe thead th {\n",
       "        text-align: right;\n",
       "    }\n",
       "</style>\n",
       "<table border=\"1\" class=\"dataframe\">\n",
       "  <thead>\n",
       "    <tr style=\"text-align: right;\">\n",
       "      <th></th>\n",
       "      <th>image</th>\n",
       "      <th>xmin</th>\n",
       "      <th>ymin</th>\n",
       "      <th>xmax</th>\n",
       "      <th>ymax</th>\n",
       "    </tr>\n",
       "  </thead>\n",
       "  <tbody>\n",
       "    <tr>\n",
       "      <th>0</th>\n",
       "      <td>vid_4_1000.jpg</td>\n",
       "      <td>281.259045</td>\n",
       "      <td>187.035071</td>\n",
       "      <td>327.727931</td>\n",
       "      <td>223.225547</td>\n",
       "    </tr>\n",
       "    <tr>\n",
       "      <th>1</th>\n",
       "      <td>vid_4_10000.jpg</td>\n",
       "      <td>15.163531</td>\n",
       "      <td>187.035071</td>\n",
       "      <td>120.329957</td>\n",
       "      <td>236.430180</td>\n",
       "    </tr>\n",
       "    <tr>\n",
       "      <th>2</th>\n",
       "      <td>vid_4_10040.jpg</td>\n",
       "      <td>239.192475</td>\n",
       "      <td>176.764800</td>\n",
       "      <td>361.968162</td>\n",
       "      <td>236.430180</td>\n",
       "    </tr>\n",
       "    <tr>\n",
       "      <th>3</th>\n",
       "      <td>vid_4_10020.jpg</td>\n",
       "      <td>496.483358</td>\n",
       "      <td>172.363256</td>\n",
       "      <td>630.020261</td>\n",
       "      <td>231.539575</td>\n",
       "    </tr>\n",
       "    <tr>\n",
       "      <th>4</th>\n",
       "      <td>vid_4_10060.jpg</td>\n",
       "      <td>16.630970</td>\n",
       "      <td>186.546010</td>\n",
       "      <td>132.558611</td>\n",
       "      <td>238.386422</td>\n",
       "    </tr>\n",
       "  </tbody>\n",
       "</table>\n",
       "</div>"
      ],
      "text/plain": [
       "             image        xmin        ymin        xmax        ymax\n",
       "0   vid_4_1000.jpg  281.259045  187.035071  327.727931  223.225547\n",
       "1  vid_4_10000.jpg   15.163531  187.035071  120.329957  236.430180\n",
       "2  vid_4_10040.jpg  239.192475  176.764800  361.968162  236.430180\n",
       "3  vid_4_10020.jpg  496.483358  172.363256  630.020261  231.539575\n",
       "4  vid_4_10060.jpg   16.630970  186.546010  132.558611  238.386422"
      ]
     },
     "execution_count": 4,
     "metadata": {},
     "output_type": "execute_result"
    }
   ],
   "source": [
    "#import csv with bounding box labels\n",
    "df = pd.read_csv('data/train_solution_bounding_boxes (1).csv')\n",
    "df.head()"
   ]
  },
  {
   "cell_type": "code",
   "execution_count": 5,
   "metadata": {
    "colab": {
     "base_uri": "https://localhost:8080/"
    },
    "id": "8dXFby_oueAf",
    "outputId": "44939a78-30a3-4c03-a7b6-00dd4b4d4fb0"
   },
   "outputs": [
    {
     "name": "stdout",
     "output_type": "stream",
     "text": [
      "['vid_4_1000.jpg', 'vid_4_10000.jpg', 'vid_4_10020.jpg', 'vid_4_10040.jpg', 'vid_4_10060.jpg']\n",
      "Number of validation images: 200\n"
     ]
    }
   ],
   "source": [
    "#import image names as a list\n",
    "images = os.listdir('data/training_images/')\n",
    "print(images[0:5])\n",
    "\n",
    "#create validation set of images\n",
    "random.seed(4)\n",
    "n = round(0.2 * len(images))\n",
    "val = random.sample(images, n)\n",
    "print('Number of validation images:', n)"
   ]
  },
  {
   "cell_type": "code",
   "execution_count": 7,
   "metadata": {
    "colab": {
     "base_uri": "https://localhost:8080/",
     "height": 206
    },
    "id": "yZrIWl6L_Mj4",
    "outputId": "7710ad2e-2830-4c7a-fb8d-88eacca7d962"
   },
   "outputs": [
    {
     "data": {
      "text/html": [
       "<div>\n",
       "<style scoped>\n",
       "    .dataframe tbody tr th:only-of-type {\n",
       "        vertical-align: middle;\n",
       "    }\n",
       "\n",
       "    .dataframe tbody tr th {\n",
       "        vertical-align: top;\n",
       "    }\n",
       "\n",
       "    .dataframe thead th {\n",
       "        text-align: right;\n",
       "    }\n",
       "</style>\n",
       "<table border=\"1\" class=\"dataframe\">\n",
       "  <thead>\n",
       "    <tr style=\"text-align: right;\">\n",
       "      <th></th>\n",
       "      <th>image</th>\n",
       "      <th>class</th>\n",
       "      <th>x_center</th>\n",
       "      <th>y_center</th>\n",
       "      <th>width</th>\n",
       "      <th>height</th>\n",
       "    </tr>\n",
       "  </thead>\n",
       "  <tbody>\n",
       "    <tr>\n",
       "      <th>0</th>\n",
       "      <td>vid_4_1000.jpg</td>\n",
       "      <td>0</td>\n",
       "      <td>0.450434</td>\n",
       "      <td>0.539817</td>\n",
       "      <td>0.068741</td>\n",
       "      <td>0.095238</td>\n",
       "    </tr>\n",
       "    <tr>\n",
       "      <th>1</th>\n",
       "      <td>vid_4_10000.jpg</td>\n",
       "      <td>0</td>\n",
       "      <td>0.100217</td>\n",
       "      <td>0.557191</td>\n",
       "      <td>0.155572</td>\n",
       "      <td>0.129987</td>\n",
       "    </tr>\n",
       "    <tr>\n",
       "      <th>2</th>\n",
       "      <td>vid_4_10040.jpg</td>\n",
       "      <td>0</td>\n",
       "      <td>0.444645</td>\n",
       "      <td>0.543678</td>\n",
       "      <td>0.181621</td>\n",
       "      <td>0.157014</td>\n",
       "    </tr>\n",
       "    <tr>\n",
       "      <th>3</th>\n",
       "      <td>vid_4_10020.jpg</td>\n",
       "      <td>0</td>\n",
       "      <td>0.833213</td>\n",
       "      <td>0.531451</td>\n",
       "      <td>0.197540</td>\n",
       "      <td>0.155727</td>\n",
       "    </tr>\n",
       "    <tr>\n",
       "      <th>4</th>\n",
       "      <td>vid_4_10060.jpg</td>\n",
       "      <td>0</td>\n",
       "      <td>0.110347</td>\n",
       "      <td>0.559122</td>\n",
       "      <td>0.171491</td>\n",
       "      <td>0.136422</td>\n",
       "    </tr>\n",
       "  </tbody>\n",
       "</table>\n",
       "</div>"
      ],
      "text/plain": [
       "             image  class  x_center  y_center     width    height\n",
       "0   vid_4_1000.jpg      0  0.450434  0.539817  0.068741  0.095238\n",
       "1  vid_4_10000.jpg      0  0.100217  0.557191  0.155572  0.129987\n",
       "2  vid_4_10040.jpg      0  0.444645  0.543678  0.181621  0.157014\n",
       "3  vid_4_10020.jpg      0  0.833213  0.531451  0.197540  0.155727\n",
       "4  vid_4_10060.jpg      0  0.110347  0.559122  0.171491  0.136422"
      ]
     },
     "execution_count": 7,
     "metadata": {},
     "output_type": "execute_result"
    }
   ],
   "source": [
    "#convert bounding box to yolo format (x_center, y_center, width, height and normalize 0 - 1)\n",
    "frame = cv2.imread('data/training_images/' + images[0])\n",
    "h, w, colour = frame.shape\n",
    "\n",
    "df['class'] = 0\n",
    "df['x_center'] = (df['xmin'] +  (df['xmax'] - df['xmin']) / 2 ) / w\n",
    "df['y_center'] = (df['ymin'] +  (df['ymax'] - df['ymin']) / 2 ) / h\n",
    "df['width'] = (df['xmax'] - df['xmin']) / w\n",
    "df['height'] = (df['ymax'] - df['ymin']) / h\n",
    "\n",
    "df = df.drop(['xmin', 'ymin', 'xmax', 'ymax'], axis = 1)\n",
    "\n",
    "df.head()"
   ]
  },
  {
   "cell_type": "code",
   "execution_count": 24,
   "metadata": {
    "id": "_PnMdWnLjBkO"
   },
   "outputs": [],
   "source": [
    "#Save images and labels - one text file per image\n",
    "for im in images:\n",
    "  frame = cv2.imread('data/training_images/{}'.format(im))\n",
    "  df_image = df[df['image'] == im]\n",
    "  df_image = df_image.drop(['image'], axis = 1)\n",
    "  df_image.head()\n",
    "  lbl = im[0:-3] + 'txt'\n",
    "  #print(lbl)\n",
    "  \n",
    "  if im in val:    \n",
    "    cv2.imwrite('data/yolo/valid/images/{}'.format(im), frame)\n",
    "    df_image.to_csv('data/yolo/valid/labels/{}'.format(lbl), \n",
    "                    header=None, index=None, sep=' ', mode='a')\n",
    "  else:\n",
    "    cv2.imwrite('data/yolo/train/images/{}'.format(im), frame)\n",
    "    df_image.to_csv('data/yolo/train/labels/{}'.format(lbl), \n",
    "                    header=None, index=None, sep=' ', mode='a')"
   ]
  },
  {
   "cell_type": "code",
   "execution_count": 42,
   "metadata": {
    "id": "SQ9xrypnQjK6"
   },
   "outputs": [],
   "source": [
    "#Augment Images\n",
    "def yoloFormattocv(x1, y1, x2, y2, H, W):   # x1 => normal_center_x, y1 => normal_center_y, x2 => normal_bbox_width, y2 => normal_bbox_height\n",
    "    bbox_width = x2 * W\n",
    "    bbox_height = y2 * H\n",
    "    center_x = x1 * W\n",
    "    center_y = y1 * H\n",
    "    voc = []\n",
    "    voc.append(center_x - (bbox_width / 2))\n",
    "    voc.append(center_y - (bbox_height / 2))\n",
    "    voc.append(center_x + (bbox_width / 2))\n",
    "    voc.append(center_y + (bbox_height / 2))\n",
    "    return [int(v) for v in voc]"
   ]
  },
  {
   "cell_type": "code",
   "execution_count": 46,
   "metadata": {},
   "outputs": [],
   "source": [
    "def cvFormattoYolo(corner, H, W):\n",
    "    bbox_W = corner[3] - corner[1]\n",
    "    bbox_H = corner[4] - corner[2]\n",
    "    center_bbox_x = (corner[1] + corner[3]) / 2\n",
    "    center_bbox_y = (corner[2] + corner[4]) / 2\n",
    "    return corner[0], round(center_bbox_x / W, 6), round(center_bbox_y / H, 6), round(bbox_W / W, 6), round(bbox_H / H, 6)"
   ]
  },
  {
   "cell_type": "code",
   "execution_count": null,
   "metadata": {},
   "outputs": [],
   "source": [
    "\n",
    "class yoloRotatebbox:\n",
    "    def __init__(self, filename, image_ext, angle):\n",
    "        assert os.path.isfile(filename + image_ext)\n",
    "        assert os.path.isfile(filename + '.txt')\n",
    "        \n",
    "        self.filename = filename\n",
    "        self.image_ext = image_ext\n",
    "        self.angle = angle\n",
    "        \n",
    "        # Read image using cv2\n",
    "        self.image = cv2.imread(self.filename + self.image_ext, 1)\n",
    "        \n",
    "        rotation_angle = self.angle * np.pi / 180\n",
    "        self.rot_matrix = np.array(\n",
    "            [[np.cos(rotation_angle), -np.sin(rotation_angle)], [np.sin(rotation_angle), np.cos(rotation_angle)]])\n",
    "    def rotateYolobbox(self):\n",
    "        new_height, new_width = self.rotate_image().shape[:2]\n",
    "        f = open(self.filename + '.txt', 'r')\n",
    "        f1 = f.readlines()\n",
    "        new_bbox = []\n",
    "        H, W = self.image.shape[:2]\n",
    "        for x in f1:\n",
    "            bbox = x.strip('\\n').split(' ')\n",
    "            if len(bbox) > 1:\n",
    "                (center_x, center_y, bbox_width, bbox_height) = yoloFormattocv(float(bbox[1]), float(bbox[2]),\n",
    "                                                                               float(bbox[3]), float(bbox[4]), H, W)\n",
    "                upper_left_corner_shift = (center_x - W / 2, -H / 2 + center_y)\n",
    "                upper_right_corner_shift = (bbox_width - W / 2, -H / 2 + center_y)\n",
    "                lower_left_corner_shift = (center_x - W / 2, -H / 2 + bbox_height)\n",
    "                lower_right_corner_shift = (bbox_width - W / 2, -H / 2 + bbox_height)\n",
    "                new_lower_right_corner = [-1, -1]\n",
    "                new_upper_left_corner = []\n",
    "                for i in (upper_left_corner_shift, upper_right_corner_shift, lower_left_corner_shift,\n",
    "                          lower_right_corner_shift):\n",
    "                    new_coords = np.matmul(self.rot_matrix, np.array((i[0], -i[1])))\n",
    "                    x_prime, y_prime = new_width / 2 + new_coords[0], new_height / 2 - new_coords[1]\n",
    "                    if new_lower_right_corner[0] < x_prime:\n",
    "                        new_lower_right_corner[0] = x_prime\n",
    "                    if new_lower_right_corner[1] < y_prime:\n",
    "                        new_lower_right_corner[1] = y_prime\n",
    "                    if len(new_upper_left_corner) > 0:\n",
    "                        if new_upper_left_corner[0] > x_prime:\n",
    "                            new_upper_left_corner[0] = x_prime\n",
    "                        if new_upper_left_corner[1] > y_prime:\n",
    "                            new_upper_left_corner[1] = y_prime\n",
    "                    else:\n",
    "                        new_upper_left_corner.append(x_prime)\n",
    "                        new_upper_left_corner.append(y_prime)\n",
    "                #             print(x_prime, y_prime)\n",
    "                new_bbox.append([bbox[0], new_upper_left_corner[0], new_upper_left_corner[1],\n",
    "                                 new_lower_right_corner[0], new_lower_right_corner[1]])\n",
    "        return new_bbox\n",
    "    def rotate_image(self):\n",
    "        \"\"\"\n",
    "        Rotates an image (angle in degrees) and expands image to avoid cropping\n",
    "        \"\"\"\n",
    "        height, width = self.image.shape[:2]  # image shape has 3 dimensions\n",
    "        image_center = (width / 2,\n",
    "                        height / 2)  # getRotationMatrix2D needs coordinates in reverse order (width, height) compared to shape\n",
    "        rotation_mat = cv2.getRotationMatrix2D(image_center, self.angle, 1.)\n",
    "        # rotation calculates the cos and sin, taking absolutes of those.\n",
    "        abs_cos = abs(rotation_mat[0, 0])\n",
    "        abs_sin = abs(rotation_mat[0, 1])\n",
    "        # find the new width and height bounds\n",
    "        bound_w = int(height * abs_sin + width * abs_cos)\n",
    "        bound_h = int(height * abs_cos + width * abs_sin)\n",
    "        # subtract old image center (bringing image back to origin) and adding the new image center coordinates\n",
    "        rotation_mat[0, 2] += bound_w / 2 - image_center[0]\n",
    "        rotation_mat[1, 2] += bound_h / 2 - image_center[1]\n",
    "        # rotate image with the new bounds and translated rotation matrix\n",
    "        rotated_mat = cv2.warpAffine(self.image, rotation_mat, (bound_w, bound_h))\n",
    "        return rotated_mat"
   ]
  },
  {
   "cell_type": "code",
   "execution_count": null,
   "metadata": {},
   "outputs": [],
   "source": [
    "if __name__ == \"__main__\":\n",
    "    angels=[45,90,135,180,225,270,315]\n",
    "    for filename in tqdm(os.listdir()):\n",
    "        file =filename.split(\".\")\n",
    "        if(file[-1]==\"jpg\"):\n",
    "            image_name=file[0]\n",
    "            image_ext=\".\"+file[1]\n",
    "        else:\n",
    "            continue\n",
    "        for angle in angels:\n",
    "            im = yoloRotatebbox(image_name, image_ext, angle)\n",
    "            bbox = im.rotateYolobbox()\n",
    "            image = im.rotate_image()\n",
    "            # to write rotateed image to disk\n",
    "            cv2.imwrite(image_name+'_' + str(angle) + '.jpg', image)\n",
    "            file_name = image_name+'_' + str(angle) + '.txt'\n",
    "            #print(\"For angle \"+str(angle))\n",
    "            if os.path.exists(file_name):\n",
    "                os.remove(file_name)\n",
    "            # to write the new rotated bboxes to file\n",
    "            for i in bbox:\n",
    "                with open(file_name, 'a') as fout:\n",
    "                    fout.writelines(\n",
    "                        ' '.join(map(str, cvFormattoYolo(i, im.rotate_image().shape[0], im.rotate_image().shape[1]))) + '\\n')"
   ]
  },
  {
   "cell_type": "code",
   "execution_count": 49,
   "metadata": {},
   "outputs": [
    {
     "data": {
      "text/plain": [
       "True"
      ]
     },
     "execution_count": 49,
     "metadata": {},
     "output_type": "execute_result"
    }
   ],
   "source": [
    "img = cv2.imread('yolo_test_images/vid_4_600.jpg')\n",
    "img_flip_lr = cv2.flip(img, 1)\n",
    "cv2.imwrite('yolo_test_images/vid_4_600_dg.jpg', img_flip_lr)"
   ]
  },
  {
   "cell_type": "code",
   "execution_count": 52,
   "metadata": {},
   "outputs": [
    {
     "name": "stdout",
     "output_type": "stream",
     "text": [
      "380 676\n"
     ]
    }
   ],
   "source": [
    "frame = cv2.imread('data/training_images/' + images[0])\n",
    "h, w, colour = frame.shape\n",
    "print(h , w)"
   ]
  },
  {
   "cell_type": "code",
   "execution_count": 50,
   "metadata": {
    "scrolled": true
   },
   "outputs": [
    {
     "ename": "SyntaxError",
     "evalue": "invalid syntax (<ipython-input-50-3db361a567b9>, line 1)",
     "output_type": "error",
     "traceback": [
      "\u001b[1;36m  File \u001b[1;32m\"<ipython-input-50-3db361a567b9>\"\u001b[1;36m, line \u001b[1;32m1\u001b[0m\n\u001b[1;33m    0 0.5137481910502958 0.5520431146052631 0.17945007233727814 0.11711711710526307\u001b[0m\n\u001b[1;37m      ^\u001b[0m\n\u001b[1;31mSyntaxError\u001b[0m\u001b[1;31m:\u001b[0m invalid syntax\n"
     ]
    }
   ],
   "source": [
    "0 0.5137481910502958 0.5520431146052631 0.17945007233727814 0.11711711710526307"
   ]
  },
  {
   "cell_type": "code",
   "execution_count": 53,
   "metadata": {
    "scrolled": true
   },
   "outputs": [
    {
     "name": "stdout",
     "output_type": "stream",
     "text": [
      "347.2937771499999 209.77638355 121.30824890000002 44.50450449999997\n"
     ]
    }
   ],
   "source": [
    "x_c = 0.5137481910502958 * w\n",
    "y_c = 0.5520431146052631 * h\n",
    "x_w = 0.17945007233727814 * w\n",
    "y_w = 0.11711711710526307 * h\n",
    "\n",
    "print(x_c, y_c, x_w, y_w)"
   ]
  },
  {
   "cell_type": "code",
   "execution_count": 57,
   "metadata": {},
   "outputs": [
    {
     "data": {
      "text/plain": [
       "328.7062228500001"
      ]
     },
     "execution_count": 57,
     "metadata": {},
     "output_type": "execute_result"
    }
   ],
   "source": [
    "new_x_c = -1 * x_c + w\n",
    "new_x_c"
   ]
  },
  {
   "cell_type": "code",
   "execution_count": 59,
   "metadata": {},
   "outputs": [
    {
     "data": {
      "text/plain": [
       "0.48625180894970427"
      ]
     },
     "execution_count": 59,
     "metadata": {},
     "output_type": "execute_result"
    }
   ],
   "source": [
    "new_x_c / w"
   ]
  },
  {
   "cell_type": "code",
   "execution_count": null,
   "metadata": {},
   "outputs": [],
   "source": [
    "vid_4_600.jpg"
   ]
  },
  {
   "cell_type": "code",
   "execution_count": 81,
   "metadata": {},
   "outputs": [],
   "source": [
    "def flip_img(img_name):\n",
    "    # flip the image and save the new image\n",
    "    img = cv2.imread('yolo_test_images/{}'.format(img_name))\n",
    "    img_flip_lr = cv2.flip(img, 1)  # we only flip horizontally in our case\n",
    "    cv2.imwrite('yolo_test_images/{}_dg.jpg'.format(img_name[0:-4]), img_flip_lr)\n",
    "    \n",
    "    # flip the bounding boxes\n",
    "    img_height, img_width, color = img.shape\n",
    "    \n",
    "    r_f = open('yolo_test_images/{}.txt'.format(img_name[0:-4]), 'r')\n",
    "    lines = r_f.readlines()\n",
    "    \n",
    "    w_f = open('yolo_test_images/{}_dg.txt'.format(img_name[0:-4]), \"w\")\n",
    "    new_lines = []\n",
    "    \n",
    "    for i in range(len(lines)):\n",
    "        line = lines[i].split()\n",
    "        normalized_bbox_center_x = float(line[1])\n",
    "        normalized_bbox_center_y = float(line[2])\n",
    "        normalized_bbox_width = float(line[3])\n",
    "        normalized_bbox_height = float(line[4])\n",
    "    \n",
    "        bbox_center_x = normalized_bbox_center_x * img_width\n",
    "        new_bbox_center_x = -1 * bbox_center_x + img_width\n",
    "        normalized_bbox_center_x = new_bbox_center_x / img_width\n",
    "        \n",
    "        new_line = \"{} {} {} {} {}\\n\".format(line[0], normalized_bbox_center_x, normalized_bbox_center_y, normalized_bbox_width, normalized_bbox_height);\n",
    "        new_lines.append(new_line)\n",
    "    \n",
    "    w_f.writelines(new_lines)\n",
    "    w_f.close()\n",
    "    r_f.close()"
   ]
  },
  {
   "cell_type": "code",
   "execution_count": 82,
   "metadata": {},
   "outputs": [],
   "source": [
    "flip_img('vid_4_700.jpg');\n",
    "\n"
   ]
  },
  {
   "cell_type": "code",
   "execution_count": 78,
   "metadata": {},
   "outputs": [
    {
     "data": {
      "text/plain": [
       "'vid_4_700.'"
      ]
     },
     "execution_count": 78,
     "metadata": {},
     "output_type": "execute_result"
    }
   ],
   "source": [
    "name = 'vid_4_700.jpg'\n",
    "name[0:-3]"
   ]
  },
  {
   "cell_type": "code",
   "execution_count": 74,
   "metadata": {},
   "outputs": [
    {
     "name": "stdout",
     "output_type": "stream",
     "text": [
      "0 0.06620839363905326 0.564913127368421 0.13241678727810668 0.17631917631578944\n"
     ]
    }
   ],
   "source": [
    "file_name = 'vid_4_700'\n",
    "\n",
    "img = cv2.imread('yolo_test_images/{}.jpg'.format(file_name))\n",
    "img_height, img_width, color = img.shape\n",
    "\n",
    "f = open('yolo_test_images/{}.txt'.format(file_name), 'r')\n",
    "lines = f.readlines()\n",
    "\n",
    "line = lines[i].split()\n",
    "normalized_bbox_center_x = float(line[1])\n",
    "normalized_bbox_center_y = float(line[2])\n",
    "normalized_bbox_width = float(line[3])\n",
    "normalized_bbox_height = float(line[4])\n",
    "\n",
    "bbox_center_x = normalized_bbox_center_x * img_width\n",
    "new_bbox_center_x = -1 * bbox_center_x + img_width\n",
    "normalized_bbox_center_x = new_bbox_center_x / img_width\n",
    "\n",
    "new_line = \"{} {} {} {} {}\".format(line[0], normalized_bbox_center_x, normalized_bbox_center_y, normalized_bbox_width, normalized_bbox_height);\n",
    "\n",
    "print(new_line)\n",
    "    "
   ]
  },
  {
   "cell_type": "code",
   "execution_count": 66,
   "metadata": {
    "id": "R6rSqIaMQ17E"
   },
   "outputs": [],
   "source": [
    "#Train simple model"
   ]
  },
  {
   "cell_type": "code",
   "execution_count": 6,
   "metadata": {
    "id": "Ksz2YRbmQ4VV"
   },
   "outputs": [],
   "source": [
    "#Test"
   ]
  },
  {
   "cell_type": "code",
   "execution_count": 7,
   "metadata": {
    "id": "w6wEgFTQQ7EM"
   },
   "outputs": [],
   "source": [
    "#Test with Yolo"
   ]
  }
 ],
 "metadata": {
  "colab": {
   "authorship_tag": "ABX9TyM3/kjoV2rE2V8j9FAiFUwh",
   "collapsed_sections": [],
   "include_colab_link": true,
   "name": "SEP-769-DL.ipynb",
   "provenance": []
  },
  "kernelspec": {
   "display_name": "Python 3",
   "language": "python",
   "name": "python3"
  },
  "language_info": {
   "codemirror_mode": {
    "name": "ipython",
    "version": 3
   },
   "file_extension": ".py",
   "mimetype": "text/x-python",
   "name": "python",
   "nbconvert_exporter": "python",
   "pygments_lexer": "ipython3",
   "version": "3.8.5"
  }
 },
 "nbformat": 4,
 "nbformat_minor": 1
}
