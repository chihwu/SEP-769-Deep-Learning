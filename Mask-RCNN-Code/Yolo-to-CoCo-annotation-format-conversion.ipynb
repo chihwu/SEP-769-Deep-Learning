{
 "cells": [
  {
   "cell_type": "code",
   "execution_count": 1,
   "metadata": {},
   "outputs": [],
   "source": [
    "import pandas as pd\n",
    "import os\n",
    "import cv2\n",
    "import random"
   ]
  },
  {
   "cell_type": "markdown",
   "metadata": {},
   "source": [
    "# Set up train & validation image folder for annotation format conversion"
   ]
  },
  {
   "cell_type": "code",
   "execution_count": 2,
   "metadata": {},
   "outputs": [
    {
     "data": {
      "text/html": [
       "<div>\n",
       "<style scoped>\n",
       "    .dataframe tbody tr th:only-of-type {\n",
       "        vertical-align: middle;\n",
       "    }\n",
       "\n",
       "    .dataframe tbody tr th {\n",
       "        vertical-align: top;\n",
       "    }\n",
       "\n",
       "    .dataframe thead th {\n",
       "        text-align: right;\n",
       "    }\n",
       "</style>\n",
       "<table border=\"1\" class=\"dataframe\">\n",
       "  <thead>\n",
       "    <tr style=\"text-align: right;\">\n",
       "      <th></th>\n",
       "      <th>image</th>\n",
       "      <th>xmin</th>\n",
       "      <th>ymin</th>\n",
       "      <th>xmax</th>\n",
       "      <th>ymax</th>\n",
       "    </tr>\n",
       "  </thead>\n",
       "  <tbody>\n",
       "    <tr>\n",
       "      <th>0</th>\n",
       "      <td>vid_4_1000.jpg</td>\n",
       "      <td>281.259045</td>\n",
       "      <td>187.035071</td>\n",
       "      <td>327.727931</td>\n",
       "      <td>223.225547</td>\n",
       "    </tr>\n",
       "    <tr>\n",
       "      <th>1</th>\n",
       "      <td>vid_4_10000.jpg</td>\n",
       "      <td>15.163531</td>\n",
       "      <td>187.035071</td>\n",
       "      <td>120.329957</td>\n",
       "      <td>236.430180</td>\n",
       "    </tr>\n",
       "    <tr>\n",
       "      <th>2</th>\n",
       "      <td>vid_4_10040.jpg</td>\n",
       "      <td>239.192475</td>\n",
       "      <td>176.764800</td>\n",
       "      <td>361.968162</td>\n",
       "      <td>236.430180</td>\n",
       "    </tr>\n",
       "    <tr>\n",
       "      <th>3</th>\n",
       "      <td>vid_4_10020.jpg</td>\n",
       "      <td>496.483358</td>\n",
       "      <td>172.363256</td>\n",
       "      <td>630.020261</td>\n",
       "      <td>231.539575</td>\n",
       "    </tr>\n",
       "    <tr>\n",
       "      <th>4</th>\n",
       "      <td>vid_4_10060.jpg</td>\n",
       "      <td>16.630970</td>\n",
       "      <td>186.546010</td>\n",
       "      <td>132.558611</td>\n",
       "      <td>238.386422</td>\n",
       "    </tr>\n",
       "  </tbody>\n",
       "</table>\n",
       "</div>"
      ],
      "text/plain": [
       "             image        xmin        ymin        xmax        ymax\n",
       "0   vid_4_1000.jpg  281.259045  187.035071  327.727931  223.225547\n",
       "1  vid_4_10000.jpg   15.163531  187.035071  120.329957  236.430180\n",
       "2  vid_4_10040.jpg  239.192475  176.764800  361.968162  236.430180\n",
       "3  vid_4_10020.jpg  496.483358  172.363256  630.020261  231.539575\n",
       "4  vid_4_10060.jpg   16.630970  186.546010  132.558611  238.386422"
      ]
     },
     "execution_count": 2,
     "metadata": {},
     "output_type": "execute_result"
    }
   ],
   "source": [
    "#import csv with bounding box labels\n",
    "df = pd.read_csv('train_solution_bounding_boxes (1).csv')\n",
    "df.head()"
   ]
  },
  {
   "cell_type": "code",
   "execution_count": 3,
   "metadata": {},
   "outputs": [
    {
     "data": {
      "text/plain": [
       "(3662, 5)"
      ]
     },
     "execution_count": 3,
     "metadata": {},
     "output_type": "execute_result"
    }
   ],
   "source": [
    "df.shape"
   ]
  },
  {
   "cell_type": "code",
   "execution_count": 4,
   "metadata": {},
   "outputs": [],
   "source": [
    "images = os.listdir('training_images/')"
   ]
  },
  {
   "cell_type": "code",
   "execution_count": 5,
   "metadata": {},
   "outputs": [
    {
     "name": "stdout",
     "output_type": "stream",
     "text": [
      "Number of validation images: 708\n"
     ]
    }
   ],
   "source": [
    "#create validation set of images\n",
    "random.seed(4)\n",
    "n = round(0.2 * len(images))\n",
    "val = random.sample(images, n)\n",
    "print('Number of validation images:', n)"
   ]
  },
  {
   "cell_type": "code",
   "execution_count": 6,
   "metadata": {},
   "outputs": [],
   "source": [
    "#convert bounding box to yolo format (x_center, y_center, width, height and normalize 0 - 1)\n",
    "frame = cv2.imread('training_images/' + images[0])\n",
    "h, w, colour = frame.shape\n",
    "\n",
    "df['class'] = 1 # NOTE that in our Yolo format car class id is 0, but CoCo class id should begin from 1 so we set it 1 instead\n"
   ]
  },
  {
   "cell_type": "code",
   "execution_count": 7,
   "metadata": {},
   "outputs": [],
   "source": [
    "#Save images and labels - one text file per image\n",
    "for im in images:\n",
    "  frame = cv2.imread('training_images/{}'.format(im))\n",
    "  df_image = df[df['image'] == im]\n",
    "  df_image = df_image.drop(['image'], axis = 1)\n",
    "  df_image.head()\n",
    "  lbl = im[0:-3] + 'txt'\n",
    "  #print(lbl)\n",
    "  \n",
    "  if im in val:    \n",
    "    cv2.imwrite('data/valid/images/{}'.format(im), frame)\n",
    "    df_image.to_csv('data/valid/labels/{}'.format(lbl), \n",
    "                    header=None, index=None, sep=' ', mode='a')\n",
    "  else:\n",
    "    cv2.imwrite('data/train/images/{}'.format(im), frame)\n",
    "    df_image.to_csv('data/train/labels/{}'.format(lbl), \n",
    "                    header=None, index=None, sep=' ', mode='a')"
   ]
  },
  {
   "cell_type": "code",
   "execution_count": null,
   "metadata": {},
   "outputs": [],
   "source": []
  },
  {
   "cell_type": "markdown",
   "metadata": {},
   "source": [
    "# Convert Yolo to CoCo format"
   ]
  },
  {
   "cell_type": "markdown",
   "metadata": {},
   "source": [
    "https://www.immersivelimit.com/tutorials/create-coco-annotations-from-scratch/#coco-dataset-format\n",
    "https://www.programmersought.com/article/43131872583/"
   ]
  },
  {
   "cell_type": "code",
   "execution_count": 8,
   "metadata": {},
   "outputs": [],
   "source": [
    "import json\n",
    "import os\n",
    "import cv2"
   ]
  },
  {
   "cell_type": "code",
   "execution_count": 9,
   "metadata": {},
   "outputs": [],
   "source": [
    "train_imgs_path = 'data/train/images/'\n",
    "train_labels_path = 'data/train/labels/'\n",
    "test_imgs_path = 'data/valid/images/'\n",
    "test_labels_path = 'data/valid/labels/'"
   ]
  },
  {
   "cell_type": "code",
   "execution_count": 10,
   "metadata": {},
   "outputs": [],
   "source": [
    "def setup_annotation(imgs_path, labels_path, Phase):\n",
    "    # dataset is used to save image information and annotation information of all data\n",
    "    dataset = {\"categories\": [], \"annotations\": [], \"images\": []}\n",
    "\n",
    "    # Add category for car for our case\n",
    "    dataset[\"categories\"].append({\"id\": 1, \"name\": \"car\", \"supercategory\": \"vehicle\"})\n",
    "\n",
    "    # Read the image name of the images folder\n",
    "    imgs_list = os.listdir(imgs_path)\n",
    "\n",
    "    global anno_index\n",
    "    anno_index = 0\n",
    "\n",
    "    for i, img_name in enumerate(imgs_list):\n",
    "        img = cv2.imread(imgs_path + '/{}'.format(img_name))\n",
    "        h, w, _ = img.shape\n",
    "\n",
    "        # Add image information to the dataset\n",
    "        dataset['images'].append({'file_name': img_name, 'id': i, 'width': w, 'height': h})\n",
    "\n",
    "        with open(labels_path + '/{}.txt'.format(img_name[0:-4])) as tr:\n",
    "            annos = tr.readlines()\n",
    "\n",
    "            for ii, anno in enumerate(annos):\n",
    "                parts = anno.strip().split()\n",
    "                # x_min\n",
    "                x1 = float(parts[0])\n",
    "                # y_min\n",
    "                y1 = float(parts[1])\n",
    "                # x_max\n",
    "                x2 = float(parts[2])\n",
    "                # y_max\n",
    "                y2 = float(parts[3])\n",
    "                class_id = parts[4]\n",
    "\n",
    "                width = max(0, x2 - x1)\n",
    "                height = max(0, y2 - y1)\n",
    "\n",
    "                dataset['annotations'].append({\n",
    "                    'area': width * height,\n",
    "                    'bbox': [x1, y1, width, height],\n",
    "                    'category_id': int(class_id),\n",
    "                    'id': anno_index,\n",
    "                    'image_id': i,\n",
    "                    'iscrowd': 0,\n",
    "                     # mask, the rectangle is the four vertices clockwise from the top left corner\n",
    "                    'segmentation': [[x1, y1, x2, y1, x2, y2, x1, y2]]\n",
    "                })\n",
    "\n",
    "                anno_index = anno_index + 1\n",
    "\n",
    "    #Save the resulting folder\n",
    "    with open('data/annotations/{}.json'.format(Phase), 'w') as f:\n",
    "      json.dump(dataset, f)"
   ]
  },
  {
   "cell_type": "code",
   "execution_count": 11,
   "metadata": {},
   "outputs": [],
   "source": [
    "setup_annotation(train_imgs_path, train_labels_path, 'train')"
   ]
  },
  {
   "cell_type": "code",
   "execution_count": 12,
   "metadata": {},
   "outputs": [],
   "source": [
    "setup_annotation(test_imgs_path, test_labels_path, 'test')"
   ]
  },
  {
   "cell_type": "code",
   "execution_count": null,
   "metadata": {},
   "outputs": [],
   "source": []
  }
 ],
 "metadata": {
  "kernelspec": {
   "display_name": "Python 3",
   "language": "python",
   "name": "python3"
  },
  "language_info": {
   "codemirror_mode": {
    "name": "ipython",
    "version": 3
   },
   "file_extension": ".py",
   "mimetype": "text/x-python",
   "name": "python",
   "nbconvert_exporter": "python",
   "pygments_lexer": "ipython3",
   "version": "3.8.5"
  }
 },
 "nbformat": 4,
 "nbformat_minor": 4
}
