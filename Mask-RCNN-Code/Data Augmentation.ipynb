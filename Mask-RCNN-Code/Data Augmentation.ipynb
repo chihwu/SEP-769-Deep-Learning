{
 "cells": [
  {
   "cell_type": "code",
   "execution_count": 191,
   "metadata": {},
   "outputs": [],
   "source": [
    "from data_aug.data_aug import *\n",
    "from data_aug.bbox_util import *\n",
    "import numpy as np \n",
    "import cv2 \n",
    "import matplotlib.pyplot as plt \n",
    "import pandas as pd\n",
    "%matplotlib inline"
   ]
  },
  {
   "cell_type": "markdown",
   "metadata": {},
   "source": [
    "# Data Augmentation"
   ]
  },
  {
   "cell_type": "markdown",
   "metadata": {},
   "source": [
    "#### This notebook require the original training images and the training images bounding boxes annotation in csv format with each row having columns in the order of image, xmin, ymin, xmax, ymax"
   ]
  },
  {
   "cell_type": "code",
   "execution_count": 196,
   "metadata": {},
   "outputs": [],
   "source": [
    "csv_file = 'train_solution_bounding_boxes (1).csv'\n",
    "csv_file2 = 'new_train_solution_bounding_boxes.csv'\n",
    "df = pd.read_csv(csv_file2)\n",
    "df['class'] = 0"
   ]
  },
  {
   "cell_type": "code",
   "execution_count": 197,
   "metadata": {},
   "outputs": [
    {
     "data": {
      "text/plain": [
       "440"
      ]
     },
     "execution_count": 197,
     "metadata": {},
     "output_type": "execute_result"
    }
   ],
   "source": [
    "len(df['image'])"
   ]
  },
  {
   "cell_type": "code",
   "execution_count": 198,
   "metadata": {},
   "outputs": [
    {
     "data": {
      "text/plain": [
       "282"
      ]
     },
     "execution_count": 198,
     "metadata": {},
     "output_type": "execute_result"
    }
   ],
   "source": [
    "len(df['image'].unique())"
   ]
  },
  {
   "cell_type": "code",
   "execution_count": 199,
   "metadata": {},
   "outputs": [
    {
     "name": "stdout",
     "output_type": "stream",
     "text": [
      "Data Augmentation Completed.\n",
      "Total Images Processed :  2538\n"
     ]
    }
   ],
   "source": [
    "count = 0\n",
    "header = [['image', 'xmin', 'ymin', 'xmax', 'ymax']]\n",
    "pd.DataFrame(header).to_csv('augmented_training_images_annotations.csv', index=False, header=False)\n",
    "imgs_list = df['image'].unique()\n",
    "train_image_folder_path = \"training_images\"\n",
    "train_image_folder_path2 = \"new_data/images\"\n",
    "\n",
    "for j in range(round(2500 / len(imgs_list))):\n",
    "    for i in range(len(imgs_list)):\n",
    "        current_img_name = imgs_list[i]\n",
    "        img = cv2.imread('new_data/images/{}'.format(current_img_name))[:,:,::-1]\n",
    "\n",
    "        df_image = df[df['image'] == current_img_name]\n",
    "        df_image = df_image.drop(['image'], axis = 1)\n",
    "        bboxes = df_image.to_numpy()\n",
    "        \n",
    "        randomHSV = np.random.randint(25, 60)\n",
    "        randomScale = random.uniform(0.3, 0.7)\n",
    "        randomTranslate = random.uniform(0.1, 0.5)\n",
    "\n",
    "        seq = Sequence([RandomHSV(randomHSV, randomHSV, randomHSV),RandomHorizontalFlip(), RandomScale(randomScale), RandomTranslate(randomTranslate)])\n",
    "        img_, bboxes_ = seq(img.copy(), bboxes.copy())\n",
    "\n",
    "        new_img_name = current_img_name[0:-4] + '_dg_' + str(count) + '.jpg'\n",
    "        \n",
    "        img_names = [new_img_name] * (bboxes_.shape[0])\n",
    "        df_bboxes_ = pd.DataFrame(bboxes_)\n",
    "        df_bboxes_ = df_bboxes_.drop([4], axis=1)   # drop the class column as it is not needed in our case\n",
    "        df_bboxes_.insert (0, 'image', img_names)\n",
    "\n",
    "        cv2.imwrite('augmented_training_images/{}'.format(new_img_name), img_)\n",
    "        df_bboxes_.to_csv('augmented_training_images_annotations.csv', index=False, header=False, mode='a')\n",
    "\n",
    "        count = count + 1\n",
    "\n",
    "\n",
    "print(\"Data Augmentation Completed.\")\n",
    "\n",
    "print(\"Total Images Processed : \", count)"
   ]
  },
  {
   "cell_type": "markdown",
   "metadata": {},
   "source": [
    "#### The new annotation data will be saved in the file augmented_training_images_annotations.csv\n",
    "#### The augmented images will be saved in the folder augmented_training_images"
   ]
  },
  {
   "cell_type": "code",
   "execution_count": null,
   "metadata": {},
   "outputs": [],
   "source": []
  },
  {
   "cell_type": "markdown",
   "metadata": {},
   "source": [
    "# Split Data into Train/Valid in YoLo format"
   ]
  },
  {
   "cell_type": "code",
   "execution_count": 200,
   "metadata": {},
   "outputs": [],
   "source": [
    "df2 = pd.read_csv('augmented_training_images_annotations.csv')"
   ]
  },
  {
   "cell_type": "code",
   "execution_count": 201,
   "metadata": {},
   "outputs": [],
   "source": [
    "dg_imgs = os.listdir('augmented_training_images/')"
   ]
  },
  {
   "cell_type": "code",
   "execution_count": 202,
   "metadata": {},
   "outputs": [
    {
     "name": "stdout",
     "output_type": "stream",
     "text": [
      "Number of validation images: 0\n"
     ]
    }
   ],
   "source": [
    "#create validation set of images\n",
    "random.seed(4)\n",
    "n = round(0 * len(dg_imgs))\n",
    "val = random.sample(dg_imgs, n)\n",
    "print('Number of validation images:', n)"
   ]
  },
  {
   "cell_type": "code",
   "execution_count": 203,
   "metadata": {},
   "outputs": [
    {
     "data": {
      "text/html": [
       "<div>\n",
       "<style scoped>\n",
       "    .dataframe tbody tr th:only-of-type {\n",
       "        vertical-align: middle;\n",
       "    }\n",
       "\n",
       "    .dataframe tbody tr th {\n",
       "        vertical-align: top;\n",
       "    }\n",
       "\n",
       "    .dataframe thead th {\n",
       "        text-align: right;\n",
       "    }\n",
       "</style>\n",
       "<table border=\"1\" class=\"dataframe\">\n",
       "  <thead>\n",
       "    <tr style=\"text-align: right;\">\n",
       "      <th></th>\n",
       "      <th>image</th>\n",
       "      <th>class</th>\n",
       "      <th>x_center</th>\n",
       "      <th>y_center</th>\n",
       "      <th>width</th>\n",
       "      <th>height</th>\n",
       "    </tr>\n",
       "  </thead>\n",
       "  <tbody>\n",
       "    <tr>\n",
       "      <th>0</th>\n",
       "      <td>vid_4_1000_dg_0.jpg</td>\n",
       "      <td>0</td>\n",
       "      <td>0.550380</td>\n",
       "      <td>0.675466</td>\n",
       "      <td>0.095733</td>\n",
       "      <td>0.132634</td>\n",
       "    </tr>\n",
       "    <tr>\n",
       "      <th>1</th>\n",
       "      <td>vid_4_10000_dg_1.jpg</td>\n",
       "      <td>0</td>\n",
       "      <td>0.061275</td>\n",
       "      <td>0.561340</td>\n",
       "      <td>0.122550</td>\n",
       "      <td>0.149986</td>\n",
       "    </tr>\n",
       "    <tr>\n",
       "      <th>2</th>\n",
       "      <td>vid_4_10020_dg_2.jpg</td>\n",
       "      <td>0</td>\n",
       "      <td>0.097262</td>\n",
       "      <td>0.224205</td>\n",
       "      <td>0.069643</td>\n",
       "      <td>0.054902</td>\n",
       "    </tr>\n",
       "    <tr>\n",
       "      <th>3</th>\n",
       "      <td>vid_4_10040_dg_3.jpg</td>\n",
       "      <td>0</td>\n",
       "      <td>0.377856</td>\n",
       "      <td>0.366443</td>\n",
       "      <td>0.173402</td>\n",
       "      <td>0.149909</td>\n",
       "    </tr>\n",
       "    <tr>\n",
       "      <th>4</th>\n",
       "      <td>vid_4_10060_dg_4.jpg</td>\n",
       "      <td>0</td>\n",
       "      <td>0.185009</td>\n",
       "      <td>0.720221</td>\n",
       "      <td>0.204759</td>\n",
       "      <td>0.162887</td>\n",
       "    </tr>\n",
       "  </tbody>\n",
       "</table>\n",
       "</div>"
      ],
      "text/plain": [
       "                  image  class  x_center  y_center     width    height\n",
       "0   vid_4_1000_dg_0.jpg      0  0.550380  0.675466  0.095733  0.132634\n",
       "1  vid_4_10000_dg_1.jpg      0  0.061275  0.561340  0.122550  0.149986\n",
       "2  vid_4_10020_dg_2.jpg      0  0.097262  0.224205  0.069643  0.054902\n",
       "3  vid_4_10040_dg_3.jpg      0  0.377856  0.366443  0.173402  0.149909\n",
       "4  vid_4_10060_dg_4.jpg      0  0.185009  0.720221  0.204759  0.162887"
      ]
     },
     "execution_count": 203,
     "metadata": {},
     "output_type": "execute_result"
    }
   ],
   "source": [
    "#convert bounding box to yolo format (x_center, y_center, width, height and normalize 0 - 1)\n",
    "frame = cv2.imread('augmented_training_images/' + dg_imgs[0])\n",
    "h, w, colour = frame.shape\n",
    "\n",
    "df2['class'] = 0\n",
    "df2['x_center'] = (df2['xmin'] +  (df2['xmax'] - df2['xmin']) / 2 ) / w\n",
    "df2['y_center'] = (df2['ymin'] +  (df2['ymax'] - df2['ymin']) / 2 ) / h\n",
    "df2['width'] = (df2['xmax'] - df2['xmin']) / w\n",
    "df2['height'] = (df2['ymax'] - df2['ymin']) / h\n",
    "\n",
    "df2 = df2.drop(['xmin', 'ymin', 'xmax', 'ymax'], axis = 1)\n",
    "\n",
    "df2.head()"
   ]
  },
  {
   "cell_type": "code",
   "execution_count": 204,
   "metadata": {},
   "outputs": [],
   "source": [
    "#Save images and labels - one text file per image\n",
    "for im in dg_imgs:\n",
    "  frame = cv2.imread('augmented_training_images/{}'.format(im))\n",
    "  df_image = df2[df2['image'] == im]\n",
    "  df_image = df_image.drop(['image'], axis = 1)\n",
    "  df_image.head()\n",
    "  lbl = im[0:-3] + 'txt'\n",
    "  #print(lbl)\n",
    "  \n",
    "  if im in val:    \n",
    "    cv2.imwrite('augmented_processed_data/yolo/valid/{}'.format(im), frame)\n",
    "    df_image.to_csv('augmented_processed_data/yolo/valid/{}'.format(lbl), \n",
    "                    header=None, index=None, sep=' ', mode='a')\n",
    "  else:\n",
    "    cv2.imwrite('augmented_processed_data/yolo/train/{}'.format(im), frame)\n",
    "    df_image.to_csv('augmented_processed_data/yolo/train/{}'.format(lbl), \n",
    "                    header=None, index=None, sep=' ', mode='a')"
   ]
  },
  {
   "cell_type": "markdown",
   "metadata": {},
   "source": [
    "### All processed image files in yolo format are saved inside the augmented_processed_data folder"
   ]
  },
  {
   "cell_type": "markdown",
   "metadata": {},
   "source": [
    "### Reference:  https://github.com/Paperspace/DataAugmentationForObjectDetection"
   ]
  },
  {
   "cell_type": "code",
   "execution_count": null,
   "metadata": {},
   "outputs": [],
   "source": []
  },
  {
   "cell_type": "code",
   "execution_count": null,
   "metadata": {},
   "outputs": [],
   "source": []
  },
  {
   "cell_type": "code",
   "execution_count": 163,
   "metadata": {},
   "outputs": [],
   "source": [
    "label_folder_path = 'new_data/labels'\n",
    "image_folder_path = 'new_data/images'\n",
    "labels = os.listdir(label_folder_path)"
   ]
  },
  {
   "cell_type": "code",
   "execution_count": 164,
   "metadata": {},
   "outputs": [
    {
     "name": "stdout",
     "output_type": "stream",
     "text": [
      "Height :  380\n",
      "Width :  676\n"
     ]
    }
   ],
   "source": [
    "frame = cv2.imread(image_folder_path + '/vid_4_600.jpg')\n",
    "h, w, colour = frame.shape\n",
    "\n",
    "print('Height : ', h)\n",
    "print('Width : ', w)"
   ]
  },
  {
   "cell_type": "code",
   "execution_count": 189,
   "metadata": {},
   "outputs": [],
   "source": [
    "import csv"
   ]
  },
  {
   "cell_type": "code",
   "execution_count": 190,
   "metadata": {},
   "outputs": [
    {
     "name": "stdout",
     "output_type": "stream",
     "text": [
      "New Image Files Created\n"
     ]
    }
   ],
   "source": [
    "header = [['image', 'xmin', 'ymin', 'xmax', 'ymax']]\n",
    "pd.DataFrame(header).to_csv('new_train_solution_bounding_boxes.csv', index=False, header=False)\n",
    "\n",
    "\n",
    "for i in range(len(labels)):\n",
    "    f = open(label_folder_path + \"/\" + labels[i], \"r\")\n",
    "    lines = f.readlines()\n",
    "\n",
    "    if len(lines) == 0:\n",
    "        continue\n",
    "        \n",
    "    img_file_name = labels[i][0:-3] + 'jpg'\n",
    "        \n",
    "    for j in range(len(lines)):\n",
    "        line = lines[j].rstrip()\n",
    "        line = line.split(' ')\n",
    "        \n",
    "        x_center = float(line[1])\n",
    "        y_center = float(line[2])\n",
    "        normalized_width = float(line[3])\n",
    "        normalized_height = float(line[4])\n",
    "        \n",
    "        xmin = x_center * w - ((normalized_width * w) / 2)\n",
    "        ymin = y_center * h - ((normalized_height * h) / 2)\n",
    "        xmax = xmin +  (normalized_width * w)\n",
    "        ymax = ymin + (normalized_height * h)\n",
    "        \n",
    "        content = pd.DataFrame(np.array([[img_file_name, xmin, ymin, xmax, ymax]]))\n",
    "        content.to_csv('new_train_solution_bounding_boxes.csv', index=False, header=False, mode='a')\n",
    "\n",
    "print(\"New Image Files Created\")"
   ]
  },
  {
   "cell_type": "code",
   "execution_count": null,
   "metadata": {},
   "outputs": [],
   "source": []
  }
 ],
 "metadata": {
  "kernelspec": {
   "display_name": "Python 3",
   "language": "python",
   "name": "python3"
  },
  "language_info": {
   "codemirror_mode": {
    "name": "ipython",
    "version": 3
   },
   "file_extension": ".py",
   "mimetype": "text/x-python",
   "name": "python",
   "nbconvert_exporter": "python",
   "pygments_lexer": "ipython3",
   "version": "3.8.5"
  }
 },
 "nbformat": 4,
 "nbformat_minor": 4
}
