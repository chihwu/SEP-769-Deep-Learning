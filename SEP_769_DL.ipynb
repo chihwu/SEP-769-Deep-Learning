{
 "cells": [
  {
   "cell_type": "markdown",
   "metadata": {
    "colab_type": "text",
    "id": "view-in-github"
   },
   "source": [
    "<a href=\"https://colab.research.google.com/github/chihwu/SEP-769-Deep-Learning/blob/master/SEP_769_DL.ipynb\" target=\"_parent\"><img src=\"https://colab.research.google.com/assets/colab-badge.svg\" alt=\"Open In Colab\"/></a>"
   ]
  },
  {
   "cell_type": "code",
   "execution_count": 1,
   "metadata": {
    "id": "Js7b1QAXmGAb"
   },
   "outputs": [],
   "source": [
    "import pandas as pd\n",
    "import os\n",
    "import cv2\n",
    "import random"
   ]
  },
  {
   "cell_type": "markdown",
   "metadata": {
    "id": "X0OIOjdRIWPw"
   },
   "source": [
    "# Load Data, Format Labels, Split Train/Validation"
   ]
  },
  {
   "cell_type": "code",
   "execution_count": 4,
   "metadata": {
    "colab": {
     "base_uri": "https://localhost:8080/",
     "height": 206
    },
    "id": "0y7yc68uQbJN",
    "outputId": "28c109e7-bed9-43fc-bc31-21677e01ad38"
   },
   "outputs": [
    {
     "data": {
      "text/html": [
       "<div>\n",
       "<style scoped>\n",
       "    .dataframe tbody tr th:only-of-type {\n",
       "        vertical-align: middle;\n",
       "    }\n",
       "\n",
       "    .dataframe tbody tr th {\n",
       "        vertical-align: top;\n",
       "    }\n",
       "\n",
       "    .dataframe thead th {\n",
       "        text-align: right;\n",
       "    }\n",
       "</style>\n",
       "<table border=\"1\" class=\"dataframe\">\n",
       "  <thead>\n",
       "    <tr style=\"text-align: right;\">\n",
       "      <th></th>\n",
       "      <th>image</th>\n",
       "      <th>xmin</th>\n",
       "      <th>ymin</th>\n",
       "      <th>xmax</th>\n",
       "      <th>ymax</th>\n",
       "    </tr>\n",
       "  </thead>\n",
       "  <tbody>\n",
       "    <tr>\n",
       "      <th>0</th>\n",
       "      <td>vid_4_1000.jpg</td>\n",
       "      <td>281.259045</td>\n",
       "      <td>187.035071</td>\n",
       "      <td>327.727931</td>\n",
       "      <td>223.225547</td>\n",
       "    </tr>\n",
       "    <tr>\n",
       "      <th>1</th>\n",
       "      <td>vid_4_10000.jpg</td>\n",
       "      <td>15.163531</td>\n",
       "      <td>187.035071</td>\n",
       "      <td>120.329957</td>\n",
       "      <td>236.430180</td>\n",
       "    </tr>\n",
       "    <tr>\n",
       "      <th>2</th>\n",
       "      <td>vid_4_10040.jpg</td>\n",
       "      <td>239.192475</td>\n",
       "      <td>176.764800</td>\n",
       "      <td>361.968162</td>\n",
       "      <td>236.430180</td>\n",
       "    </tr>\n",
       "    <tr>\n",
       "      <th>3</th>\n",
       "      <td>vid_4_10020.jpg</td>\n",
       "      <td>496.483358</td>\n",
       "      <td>172.363256</td>\n",
       "      <td>630.020261</td>\n",
       "      <td>231.539575</td>\n",
       "    </tr>\n",
       "    <tr>\n",
       "      <th>4</th>\n",
       "      <td>vid_4_10060.jpg</td>\n",
       "      <td>16.630970</td>\n",
       "      <td>186.546010</td>\n",
       "      <td>132.558611</td>\n",
       "      <td>238.386422</td>\n",
       "    </tr>\n",
       "  </tbody>\n",
       "</table>\n",
       "</div>"
      ],
      "text/plain": [
       "             image        xmin        ymin        xmax        ymax\n",
       "0   vid_4_1000.jpg  281.259045  187.035071  327.727931  223.225547\n",
       "1  vid_4_10000.jpg   15.163531  187.035071  120.329957  236.430180\n",
       "2  vid_4_10040.jpg  239.192475  176.764800  361.968162  236.430180\n",
       "3  vid_4_10020.jpg  496.483358  172.363256  630.020261  231.539575\n",
       "4  vid_4_10060.jpg   16.630970  186.546010  132.558611  238.386422"
      ]
     },
     "execution_count": 4,
     "metadata": {},
     "output_type": "execute_result"
    }
   ],
   "source": [
    "#import csv with bounding box labels\n",
    "df = pd.read_csv('data/train_solution_bounding_boxes (1).csv')\n",
    "df.head()"
   ]
  },
  {
   "cell_type": "code",
   "execution_count": 5,
   "metadata": {
    "colab": {
     "base_uri": "https://localhost:8080/"
    },
    "id": "8dXFby_oueAf",
    "outputId": "44939a78-30a3-4c03-a7b6-00dd4b4d4fb0"
   },
   "outputs": [
    {
     "name": "stdout",
     "output_type": "stream",
     "text": [
      "['vid_4_1000.jpg', 'vid_4_10000.jpg', 'vid_4_10020.jpg', 'vid_4_10040.jpg', 'vid_4_10060.jpg']\n",
      "Number of validation images: 200\n"
     ]
    }
   ],
   "source": [
    "#import image names as a list\n",
    "images = os.listdir('data/training_images/')\n",
    "print(images[0:5])\n",
    "\n",
    "#create validation set of images\n",
    "random.seed(4)\n",
    "n = round(0.2 * len(images))\n",
    "val = random.sample(images, n)\n",
    "print('Number of validation images:', n)"
   ]
  },
  {
   "cell_type": "code",
   "execution_count": 41,
   "metadata": {},
   "outputs": [
    {
     "data": {
      "text/plain": [
       "['vid_4_16000.jpg',\n",
       " 'vid_4_17400.jpg',\n",
       " 'vid_4_12220.jpg',\n",
       " 'vid_4_29600.jpg',\n",
       " 'vid_4_19360.jpg',\n",
       " 'vid_4_21220.jpg',\n",
       " 'vid_4_13640.jpg',\n",
       " 'vid_4_11960.jpg',\n",
       " 'vid_4_11260.jpg',\n",
       " 'vid_4_10360.jpg',\n",
       " 'vid_4_19460.jpg',\n",
       " 'vid_4_22580.jpg',\n",
       " 'vid_4_8740.jpg',\n",
       " 'vid_4_17140.jpg',\n",
       " 'vid_4_4640.jpg',\n",
       " 'vid_4_3660.jpg',\n",
       " 'vid_4_11100.jpg',\n",
       " 'vid_4_15060.jpg',\n",
       " 'vid_4_22020.jpg',\n",
       " 'vid_4_22340.jpg',\n",
       " 'vid_4_18680.jpg',\n",
       " 'vid_4_16900.jpg',\n",
       " 'vid_4_3960.jpg',\n",
       " 'vid_4_14040.jpg',\n",
       " 'vid_4_6260.jpg',\n",
       " 'vid_4_12280.jpg',\n",
       " 'vid_4_16560.jpg',\n",
       " 'vid_4_14900.jpg',\n",
       " 'vid_4_9340.jpg',\n",
       " 'vid_4_9040.jpg',\n",
       " 'vid_4_10460.jpg',\n",
       " 'vid_4_6300.jpg',\n",
       " 'vid_4_26080.jpg',\n",
       " 'vid_4_5760.jpg',\n",
       " 'vid_4_16520.jpg',\n",
       " 'vid_4_9720.jpg',\n",
       " 'vid_4_16740.jpg',\n",
       " 'vid_4_14480.jpg',\n",
       " 'vid_4_13840.jpg',\n",
       " 'vid_4_17540.jpg',\n",
       " 'vid_4_9740.jpg',\n",
       " 'vid_4_2560.jpg',\n",
       " 'vid_4_7200.jpg',\n",
       " 'vid_4_29920.jpg',\n",
       " 'vid_4_6980.jpg',\n",
       " 'vid_4_6800.jpg',\n",
       " 'vid_4_7440.jpg',\n",
       " 'vid_4_18920.jpg',\n",
       " 'vid_4_11880.jpg',\n",
       " 'vid_4_6600.jpg',\n",
       " 'vid_4_23620.jpg',\n",
       " 'vid_4_18100.jpg',\n",
       " 'vid_4_26700.jpg',\n",
       " 'vid_4_19200.jpg',\n",
       " 'vid_4_21740.jpg',\n",
       " 'vid_4_16240.jpg',\n",
       " 'vid_4_14160.jpg',\n",
       " 'vid_4_16220.jpg',\n",
       " 'vid_4_21120.jpg',\n",
       " 'vid_4_16960.jpg',\n",
       " 'vid_4_11940.jpg',\n",
       " 'vid_4_6100.jpg',\n",
       " 'vid_4_7180.jpg',\n",
       " 'vid_4_22540.jpg',\n",
       " 'vid_4_6520.jpg',\n",
       " 'vid_4_17360.jpg',\n",
       " 'vid_4_10120.jpg',\n",
       " 'vid_4_8580.jpg',\n",
       " 'vid_4_17180.jpg',\n",
       " 'vid_4_23000.jpg',\n",
       " 'vid_4_28880.jpg',\n",
       " 'vid_4_7480.jpg',\n",
       " 'vid_4_17580.jpg',\n",
       " 'vid_4_9160.jpg',\n",
       " 'vid_4_9700.jpg',\n",
       " 'vid_4_21800.jpg',\n",
       " 'vid_4_14500.jpg',\n",
       " 'vid_4_19680.jpg',\n",
       " 'vid_4_19860.jpg',\n",
       " 'vid_4_23500.jpg',\n",
       " 'vid_4_17120.jpg',\n",
       " 'vid_4_20000.jpg',\n",
       " 'vid_4_20560.jpg',\n",
       " 'vid_4_13780.jpg',\n",
       " 'vid_4_1560.jpg',\n",
       " 'vid_4_17440.jpg',\n",
       " 'vid_4_16500.jpg',\n",
       " 'vid_4_5880.jpg',\n",
       " 'vid_4_4580.jpg',\n",
       " 'vid_4_1080.jpg',\n",
       " 'vid_4_11780.jpg',\n",
       " 'vid_4_10840.jpg',\n",
       " 'vid_4_20920.jpg',\n",
       " 'vid_4_2540.jpg',\n",
       " 'vid_4_16980.jpg',\n",
       " 'vid_4_22000.jpg',\n",
       " 'vid_4_22300.jpg',\n",
       " 'vid_4_26220.jpg',\n",
       " 'vid_4_21080.jpg',\n",
       " 'vid_4_28440.jpg',\n",
       " 'vid_4_18200.jpg',\n",
       " 'vid_4_13280.jpg',\n",
       " 'vid_4_26740.jpg',\n",
       " 'vid_4_14520.jpg',\n",
       " 'vid_4_9820.jpg',\n",
       " 'vid_4_19660.jpg',\n",
       " 'vid_4_14660.jpg',\n",
       " 'vid_4_25960.jpg',\n",
       " 'vid_4_25900.jpg',\n",
       " 'vid_4_20260.jpg',\n",
       " 'vid_4_16820.jpg',\n",
       " 'vid_4_14280.jpg',\n",
       " 'vid_4_18440.jpg',\n",
       " 'vid_4_20100.jpg',\n",
       " 'vid_4_3280.jpg',\n",
       " 'vid_4_23300.jpg',\n",
       " 'vid_4_17740.jpg',\n",
       " 'vid_4_25940.jpg',\n",
       " 'vid_4_22740.jpg',\n",
       " 'vid_4_14580.jpg',\n",
       " 'vid_4_1780.jpg',\n",
       " 'vid_4_12180.jpg',\n",
       " 'vid_4_6500.jpg',\n",
       " 'vid_4_11160.jpg',\n",
       " 'vid_4_29340.jpg',\n",
       " 'vid_4_1520.jpg',\n",
       " 'vid_4_16920.jpg',\n",
       " 'vid_4_8300.jpg',\n",
       " 'vid_4_2320.jpg',\n",
       " 'vid_4_24800.jpg',\n",
       " 'vid_4_16040.jpg',\n",
       " 'vid_4_12620.jpg',\n",
       " 'vid_4_17940.jpg',\n",
       " 'vid_4_14140.jpg',\n",
       " 'vid_4_17160.jpg',\n",
       " 'vid_4_20860.jpg',\n",
       " 'vid_4_9420.jpg',\n",
       " 'vid_4_10780.jpg',\n",
       " 'vid_4_1860.jpg',\n",
       " 'vid_4_28380.jpg',\n",
       " 'vid_4_11800.jpg',\n",
       " 'vid_4_17060.jpg',\n",
       " 'vid_4_29980.jpg',\n",
       " 'vid_4_26780.jpg',\n",
       " 'vid_4_17840.jpg',\n",
       " 'vid_4_10320.jpg',\n",
       " 'vid_4_17780.jpg',\n",
       " 'vid_4_800.jpg',\n",
       " 'vid_4_17760.jpg',\n",
       " 'vid_4_13580.jpg',\n",
       " 'vid_4_3860.jpg',\n",
       " 'vid_4_26300.jpg',\n",
       " 'vid_4_19620.jpg',\n",
       " 'vid_4_24900.jpg',\n",
       " 'vid_4_27120.jpg',\n",
       " 'vid_4_9760.jpg',\n",
       " 'vid_4_11480.jpg',\n",
       " 'vid_4_17220.jpg',\n",
       " 'vid_4_24840.jpg',\n",
       " 'vid_4_14440.jpg',\n",
       " 'vid_4_20320.jpg',\n",
       " 'vid_4_17200.jpg',\n",
       " 'vid_4_12900.jpg',\n",
       " 'vid_4_16280.jpg',\n",
       " 'vid_4_19080.jpg',\n",
       " 'vid_4_820.jpg',\n",
       " 'vid_4_13720.jpg',\n",
       " 'vid_4_8320.jpg',\n",
       " 'vid_4_860.jpg',\n",
       " 'vid_4_10160.jpg',\n",
       " 'vid_4_18760.jpg',\n",
       " 'vid_4_10800.jpg',\n",
       " 'vid_4_20780.jpg',\n",
       " 'vid_4_13940.jpg',\n",
       " 'vid_4_18780.jpg',\n",
       " 'vid_4_4040.jpg',\n",
       " 'vid_4_5700.jpg',\n",
       " 'vid_4_18740.jpg',\n",
       " 'vid_4_6780.jpg',\n",
       " 'vid_4_2300.jpg',\n",
       " 'vid_4_12100.jpg',\n",
       " 'vid_4_2020.jpg',\n",
       " 'vid_4_14760.jpg',\n",
       " 'vid_4_19880.jpg',\n",
       " 'vid_4_4620.jpg',\n",
       " 'vid_4_12440.jpg',\n",
       " 'vid_4_9680.jpg',\n",
       " 'vid_4_7000.jpg',\n",
       " 'vid_4_11020.jpg',\n",
       " 'vid_4_30020.jpg',\n",
       " 'vid_4_13920.jpg',\n",
       " 'vid_4_23420.jpg',\n",
       " 'vid_4_27060.jpg',\n",
       " 'vid_4_13460.jpg',\n",
       " 'vid_4_23640.jpg',\n",
       " 'vid_4_10740.jpg',\n",
       " 'vid_4_22520.jpg',\n",
       " 'vid_4_21440.jpg',\n",
       " 'vid_4_6920.jpg',\n",
       " 'vid_4_16260.jpg']"
      ]
     },
     "execution_count": 41,
     "metadata": {},
     "output_type": "execute_result"
    }
   ],
   "source": [
    "val"
   ]
  },
  {
   "cell_type": "code",
   "execution_count": 7,
   "metadata": {
    "colab": {
     "base_uri": "https://localhost:8080/",
     "height": 206
    },
    "id": "yZrIWl6L_Mj4",
    "outputId": "7710ad2e-2830-4c7a-fb8d-88eacca7d962"
   },
   "outputs": [
    {
     "data": {
      "text/html": [
       "<div>\n",
       "<style scoped>\n",
       "    .dataframe tbody tr th:only-of-type {\n",
       "        vertical-align: middle;\n",
       "    }\n",
       "\n",
       "    .dataframe tbody tr th {\n",
       "        vertical-align: top;\n",
       "    }\n",
       "\n",
       "    .dataframe thead th {\n",
       "        text-align: right;\n",
       "    }\n",
       "</style>\n",
       "<table border=\"1\" class=\"dataframe\">\n",
       "  <thead>\n",
       "    <tr style=\"text-align: right;\">\n",
       "      <th></th>\n",
       "      <th>image</th>\n",
       "      <th>class</th>\n",
       "      <th>x_center</th>\n",
       "      <th>y_center</th>\n",
       "      <th>width</th>\n",
       "      <th>height</th>\n",
       "    </tr>\n",
       "  </thead>\n",
       "  <tbody>\n",
       "    <tr>\n",
       "      <th>0</th>\n",
       "      <td>vid_4_1000.jpg</td>\n",
       "      <td>0</td>\n",
       "      <td>0.450434</td>\n",
       "      <td>0.539817</td>\n",
       "      <td>0.068741</td>\n",
       "      <td>0.095238</td>\n",
       "    </tr>\n",
       "    <tr>\n",
       "      <th>1</th>\n",
       "      <td>vid_4_10000.jpg</td>\n",
       "      <td>0</td>\n",
       "      <td>0.100217</td>\n",
       "      <td>0.557191</td>\n",
       "      <td>0.155572</td>\n",
       "      <td>0.129987</td>\n",
       "    </tr>\n",
       "    <tr>\n",
       "      <th>2</th>\n",
       "      <td>vid_4_10040.jpg</td>\n",
       "      <td>0</td>\n",
       "      <td>0.444645</td>\n",
       "      <td>0.543678</td>\n",
       "      <td>0.181621</td>\n",
       "      <td>0.157014</td>\n",
       "    </tr>\n",
       "    <tr>\n",
       "      <th>3</th>\n",
       "      <td>vid_4_10020.jpg</td>\n",
       "      <td>0</td>\n",
       "      <td>0.833213</td>\n",
       "      <td>0.531451</td>\n",
       "      <td>0.197540</td>\n",
       "      <td>0.155727</td>\n",
       "    </tr>\n",
       "    <tr>\n",
       "      <th>4</th>\n",
       "      <td>vid_4_10060.jpg</td>\n",
       "      <td>0</td>\n",
       "      <td>0.110347</td>\n",
       "      <td>0.559122</td>\n",
       "      <td>0.171491</td>\n",
       "      <td>0.136422</td>\n",
       "    </tr>\n",
       "  </tbody>\n",
       "</table>\n",
       "</div>"
      ],
      "text/plain": [
       "             image  class  x_center  y_center     width    height\n",
       "0   vid_4_1000.jpg      0  0.450434  0.539817  0.068741  0.095238\n",
       "1  vid_4_10000.jpg      0  0.100217  0.557191  0.155572  0.129987\n",
       "2  vid_4_10040.jpg      0  0.444645  0.543678  0.181621  0.157014\n",
       "3  vid_4_10020.jpg      0  0.833213  0.531451  0.197540  0.155727\n",
       "4  vid_4_10060.jpg      0  0.110347  0.559122  0.171491  0.136422"
      ]
     },
     "execution_count": 7,
     "metadata": {},
     "output_type": "execute_result"
    }
   ],
   "source": [
    "#convert bounding box to yolo format (x_center, y_center, width, height and normalize 0 - 1)\n",
    "frame = cv2.imread('data/training_images/' + images[0])\n",
    "h, w, colour = frame.shape\n",
    "\n",
    "df['class'] = 0\n",
    "df['x_center'] = (df['xmin'] +  (df['xmax'] - df['xmin']) / 2 ) / w\n",
    "df['y_center'] = (df['ymin'] +  (df['ymax'] - df['ymin']) / 2 ) / h\n",
    "df['width'] = (df['xmax'] - df['xmin']) / w\n",
    "df['height'] = (df['ymax'] - df['ymin']) / h\n",
    "\n",
    "df = df.drop(['xmin', 'ymin', 'xmax', 'ymax'], axis = 1)\n",
    "\n",
    "df.head()"
   ]
  },
  {
   "cell_type": "code",
   "execution_count": 24,
   "metadata": {
    "id": "_PnMdWnLjBkO"
   },
   "outputs": [],
   "source": [
    "#Save images and labels - one text file per image\n",
    "for im in images:\n",
    "  frame = cv2.imread('data/training_images/{}'.format(im))\n",
    "  df_image = df[df['image'] == im]\n",
    "  df_image = df_image.drop(['image'], axis = 1)\n",
    "  df_image.head()\n",
    "  lbl = im[0:-3] + 'txt'\n",
    "  #print(lbl)\n",
    "  \n",
    "  if im in val:    \n",
    "    cv2.imwrite('data/yolo/valid/images/{}'.format(im), frame)\n",
    "    df_image.to_csv('data/yolo/valid/labels/{}'.format(lbl), \n",
    "                    header=None, index=None, sep=' ', mode='a')\n",
    "  else:\n",
    "    cv2.imwrite('data/yolo/train/images/{}'.format(im), frame)\n",
    "    df_image.to_csv('data/yolo/train/labels/{}'.format(lbl), \n",
    "                    header=None, index=None, sep=' ', mode='a')"
   ]
  },
  {
   "cell_type": "code",
   "execution_count": 4,
   "metadata": {
    "id": "SQ9xrypnQjK6"
   },
   "outputs": [],
   "source": [
    "#Augment Images"
   ]
  },
  {
   "cell_type": "code",
   "execution_count": 5,
   "metadata": {
    "id": "R6rSqIaMQ17E"
   },
   "outputs": [],
   "source": [
    "#Train simple model"
   ]
  },
  {
   "cell_type": "code",
   "execution_count": 6,
   "metadata": {
    "id": "Ksz2YRbmQ4VV"
   },
   "outputs": [],
   "source": [
    "#Test"
   ]
  },
  {
   "cell_type": "code",
   "execution_count": 7,
   "metadata": {
    "id": "w6wEgFTQQ7EM"
   },
   "outputs": [],
   "source": [
    "#Test with Yolo"
   ]
  }
 ],
 "metadata": {
  "colab": {
   "authorship_tag": "ABX9TyM3/kjoV2rE2V8j9FAiFUwh",
   "collapsed_sections": [],
   "include_colab_link": true,
   "name": "SEP-769-DL.ipynb",
   "provenance": []
  },
  "kernelspec": {
   "display_name": "Python 3",
   "language": "python",
   "name": "python3"
  },
  "language_info": {
   "codemirror_mode": {
    "name": "ipython",
    "version": 3
   },
   "file_extension": ".py",
   "mimetype": "text/x-python",
   "name": "python",
   "nbconvert_exporter": "python",
   "pygments_lexer": "ipython3",
   "version": "3.8.5"
  }
 },
 "nbformat": 4,
 "nbformat_minor": 1
}
